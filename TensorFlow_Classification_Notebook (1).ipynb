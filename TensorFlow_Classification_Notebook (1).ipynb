{
  "nbformat": 4,
  "nbformat_minor": 0,
  "metadata": {
    "colab": {
      "provenance": []
    },
    "kernelspec": {
      "name": "python3",
      "display_name": "Python 3"
    },
    "language_info": {
      "name": "python"
    }
  },
  "cells": [
    {
      "cell_type": "markdown",
      "source": [
        "# Load Libraries"
      ],
      "metadata": {
        "id": "N2u0VodZA5qw"
      }
    },
    {
      "cell_type": "code",
      "execution_count": 1,
      "metadata": {
        "id": "imGJ8Qwl9H-H"
      },
      "outputs": [],
      "source": [
        "import pandas as pd  # Importing the Pandas library, which provides data manipulation and analysis functionalities.\n",
        "import tensorflow as tf  # Importing the TensorFlow library, an open-source machine learning framework.\n",
        "from tensorflow import keras  # Importing the Keras module from TensorFlow, which provides a high-level API for building and training neural networks.\n",
        "from sklearn.model_selection import train_test_split  # Importing the train_test_split function from scikit-learn, a machine learning library, used for splitting the data into training and testing sets.\n",
        "from sklearn.preprocessing import LabelEncoder  # Importing the LabelEncoder class from scikit-learn, which is used to encode categorical variables into numerical values.\n"
      ]
    },
    {
      "cell_type": "markdown",
      "source": [
        "# Load Data"
      ],
      "metadata": {
        "id": "WNva9ip8A6pw"
      }
    },
    {
      "cell_type": "code",
      "source": [
        "# Load the data from a CSV file\n",
        "data = pd.read_csv('accdata2.csv')"
      ],
      "metadata": {
        "id": "HPJyAUtM-IPO"
      },
      "execution_count": 2,
      "outputs": []
    },
    {
      "cell_type": "code",
      "source": [
        "# drop duplicate rows\n",
        "data = data.drop_duplicates()\n"
      ],
      "metadata": {
        "id": "TdqW6kANCMK1"
      },
      "execution_count": 3,
      "outputs": []
    },
    {
      "cell_type": "code",
      "source": [
        "# convert type to float\n",
        "data['estimated_x'] = data['estimated_x'].str[:7].astype(float)\n",
        "data['estimated_y'] = data['estimated_y'].str[:7].astype(float)\n",
        "data['estimated_z'] = data['estimated_z'].str[:7].astype(float)"
      ],
      "metadata": {
        "id": "76V8u1XiBABj",
        "colab": {
          "base_uri": "https://localhost:8080/"
        },
        "outputId": "7705686e-3b00-44af-c382-bb342ea7d786"
      },
      "execution_count": 4,
      "outputs": [
        {
          "output_type": "stream",
          "name": "stderr",
          "text": [
            "<ipython-input-4-d834e3f0a7f4>:2: SettingWithCopyWarning: \n",
            "A value is trying to be set on a copy of a slice from a DataFrame.\n",
            "Try using .loc[row_indexer,col_indexer] = value instead\n",
            "\n",
            "See the caveats in the documentation: https://pandas.pydata.org/pandas-docs/stable/user_guide/indexing.html#returning-a-view-versus-a-copy\n",
            "  data['estimated_x'] = data['estimated_x'].str[:7].astype(float)\n",
            "<ipython-input-4-d834e3f0a7f4>:3: SettingWithCopyWarning: \n",
            "A value is trying to be set on a copy of a slice from a DataFrame.\n",
            "Try using .loc[row_indexer,col_indexer] = value instead\n",
            "\n",
            "See the caveats in the documentation: https://pandas.pydata.org/pandas-docs/stable/user_guide/indexing.html#returning-a-view-versus-a-copy\n",
            "  data['estimated_y'] = data['estimated_y'].str[:7].astype(float)\n",
            "<ipython-input-4-d834e3f0a7f4>:4: SettingWithCopyWarning: \n",
            "A value is trying to be set on a copy of a slice from a DataFrame.\n",
            "Try using .loc[row_indexer,col_indexer] = value instead\n",
            "\n",
            "See the caveats in the documentation: https://pandas.pydata.org/pandas-docs/stable/user_guide/indexing.html#returning-a-view-versus-a-copy\n",
            "  data['estimated_z'] = data['estimated_z'].str[:7].astype(float)\n"
          ]
        }
      ]
    },
    {
      "cell_type": "code",
      "source": [
        "# Separate the features (X) and the target variable (y)\n",
        "X = data[['estimated_x', 'estimated_y', 'estimated_z']]\n",
        "y = data['Status']"
      ],
      "metadata": {
        "id": "2sXtXEMWCUux"
      },
      "execution_count": 5,
      "outputs": []
    },
    {
      "cell_type": "code",
      "source": [
        "# Encode the target variable\n",
        "label_encoder = LabelEncoder()\n",
        "y = label_encoder.fit_transform(y)"
      ],
      "metadata": {
        "id": "hIR-TJgSCW-I"
      },
      "execution_count": 6,
      "outputs": []
    },
    {
      "cell_type": "code",
      "source": [
        "# Split the data into training and testing sets\n",
        "X_train, X_test, y_train, y_test = train_test_split(X, y, test_size=0.2, random_state=42)\n"
      ],
      "metadata": {
        "id": "4ziDqc6HCYSx"
      },
      "execution_count": 7,
      "outputs": []
    },
    {
      "cell_type": "markdown",
      "source": [
        "- **model = keras.Sequential([...]):** Creating a sequential model using Keras, which allows us to stack multiple layers one after another.\n",
        "\n",
        "- **keras.layers.Dense(64, activation='relu', input_shape=(3,)):** Adding a fully connected dense layer to the model with 64 units/neurons. The 'relu' activation function is applied, and the input_shape parameter is set to (3,) as the input features have three dimensions.\n",
        "\n",
        "- **keras.layers.Dense(32, activation='relu'):** Adding another fully connected dense layer to the model with 32 units/neurons and 'relu' activation.\n",
        "\n",
        "- **keras.layers.Dense(len(label_encoder.classes_), activation='softmax'):** Adding the output layer to the model with a number of units equal to the number of classes in the target variable (encoded using LabelEncoder). The 'softmax' activation function is applied to produce a probability distribution over the classes."
      ],
      "metadata": {
        "id": "ZQo-SfBqCf8T"
      }
    },
    {
      "cell_type": "code",
      "source": [
        "model = keras.Sequential([\n",
        "    keras.layers.Dense(64, activation='relu', input_shape=(3,)),\n",
        "    keras.layers.Dense(32, activation='relu'),\n",
        "    keras.layers.Dense(len(label_encoder.classes_), activation='softmax')\n",
        "])"
      ],
      "metadata": {
        "id": "6mtGcamu-cUd"
      },
      "execution_count": 8,
      "outputs": []
    },
    {
      "cell_type": "markdown",
      "source": [
        "- **model.compile(...):** Configuring the model for training by specifying the optimizer, loss function, and metrics to evaluate the model's performance during training.\n",
        "\n",
        "- **optimizer='adam':** Using the Adam optimizer, which is an efficient variant of stochastic gradient descent (SGD) that adapts the learning rate.\n",
        "\n",
        "- **loss='sparse_categorical_crossentropy':** Using the sparse categorical cross-entropy loss function, which is suitable for multi-class classification problems with integer-encoded labels.\n",
        "\n",
        "- **metrics=['accuracy']:** Tracking the accuracy metric during training to evaluate the model's performance."
      ],
      "metadata": {
        "id": "AX3cMynBCxYG"
      }
    },
    {
      "cell_type": "code",
      "source": [
        "model.compile(optimizer='adam', loss='sparse_categorical_crossentropy', metrics=['accuracy'])"
      ],
      "metadata": {
        "id": "NIRfjrUhCz9o"
      },
      "execution_count": 9,
      "outputs": []
    },
    {
      "cell_type": "markdown",
      "source": [
        "- **model.fit(...):** Training the model on the training data.\n",
        "\n",
        "- **X_train, y_train:** The input features and corresponding target labels for the training set.\n",
        "\n",
        "- **epochs=10:** Training the model for 10 epochs, where an epoch represents a complete iteration over the entire training dataset.\n",
        "\n",
        "- **batch_size=32:** The number of samples used in each batch during training. The model's weights are updated after processing each batch.\n",
        "\n",
        "- **validation_data=(X_test, y_test):** Evaluating the model's performance on the validation set during training. X_test and y_test represent the input features and target labels for the validation set."
      ],
      "metadata": {
        "id": "DOpZDolQC3Xa"
      }
    },
    {
      "cell_type": "code",
      "source": [
        "model.fit(X_train, y_train, epochs=10, batch_size=32, validation_data=(X_test, y_test))\n"
      ],
      "metadata": {
        "colab": {
          "base_uri": "https://localhost:8080/"
        },
        "id": "FlBo0IXuC34V",
        "outputId": "0df9c53e-893a-4644-90e3-7a455e50fc07"
      },
      "execution_count": 10,
      "outputs": [
        {
          "output_type": "stream",
          "name": "stdout",
          "text": [
            "Epoch 1/10\n",
            "6/6 [==============================] - 1s 49ms/step - loss: 55.1513 - accuracy: 0.1296 - val_loss: 44.1717 - val_accuracy: 0.0488\n",
            "Epoch 2/10\n",
            "6/6 [==============================] - 0s 11ms/step - loss: 32.4105 - accuracy: 0.0802 - val_loss: 22.6199 - val_accuracy: 0.2439\n",
            "Epoch 3/10\n",
            "6/6 [==============================] - 0s 8ms/step - loss: 16.7533 - accuracy: 0.2531 - val_loss: 15.1736 - val_accuracy: 0.0488\n",
            "Epoch 4/10\n",
            "6/6 [==============================] - 0s 11ms/step - loss: 9.8699 - accuracy: 0.2284 - val_loss: 5.1102 - val_accuracy: 0.2439\n",
            "Epoch 5/10\n",
            "6/6 [==============================] - 0s 12ms/step - loss: 3.8085 - accuracy: 0.4444 - val_loss: 1.5982 - val_accuracy: 0.6585\n",
            "Epoch 6/10\n",
            "6/6 [==============================] - 0s 8ms/step - loss: 3.5070 - accuracy: 0.5247 - val_loss: 1.5555 - val_accuracy: 0.8293\n",
            "Epoch 7/10\n",
            "6/6 [==============================] - 0s 9ms/step - loss: 3.1013 - accuracy: 0.8272 - val_loss: 1.5097 - val_accuracy: 0.8780\n",
            "Epoch 8/10\n",
            "6/6 [==============================] - 0s 8ms/step - loss: 2.5750 - accuracy: 0.8457 - val_loss: 1.0604 - val_accuracy: 0.9024\n",
            "Epoch 9/10\n",
            "6/6 [==============================] - 0s 11ms/step - loss: 1.5208 - accuracy: 0.6728 - val_loss: 0.9049 - val_accuracy: 0.9268\n",
            "Epoch 10/10\n",
            "6/6 [==============================] - 0s 9ms/step - loss: 1.1374 - accuracy: 0.7963 - val_loss: 0.7769 - val_accuracy: 0.8293\n"
          ]
        },
        {
          "output_type": "execute_result",
          "data": {
            "text/plain": [
              "<keras.callbacks.History at 0x7fe523fab5e0>"
            ]
          },
          "metadata": {},
          "execution_count": 10
        }
      ]
    },
    {
      "cell_type": "markdown",
      "source": [
        "- **test_loss, test_accuracy = model.evaluate(X_test, y_test):** Evaluating the trained model's performance on the test data to obtain the loss and accuracy metrics. The evaluate() function calculates the loss and metrics specified during the model compilation.\n",
        "\n",
        "- **print('Test Loss:', test_loss):** Printing the test loss value, which indicates the average loss on the test dataset. This provides insights into how well the model performs in terms of minimizing the loss function.\n",
        "\n",
        "- **print('Test Accuracy:', test_accuracy):** Printing the test accuracy value, which represents the proportion of correctly classified samples in the test dataset. It indicates the model's performance in terms of classification accuracy."
      ],
      "metadata": {
        "id": "XCVXQimaDdv0"
      }
    },
    {
      "cell_type": "code",
      "source": [
        "test_loss, test_accuracy = model.evaluate(X_test, y_test)\n",
        "print('Test Loss:', test_loss)\n",
        "print('Test Accuracy:', test_accuracy)"
      ],
      "metadata": {
        "colab": {
          "base_uri": "https://localhost:8080/"
        },
        "id": "-Hu6KI95-fF3",
        "outputId": "5ac2b46d-7486-4f4d-cf4e-6cb86ca41bed"
      },
      "execution_count": 11,
      "outputs": [
        {
          "output_type": "stream",
          "name": "stdout",
          "text": [
            "2/2 [==============================] - 0s 7ms/step - loss: 0.7769 - accuracy: 0.8293\n",
            "Test Loss: 0.7769172191619873\n",
            "Test Accuracy: 0.8292682766914368\n"
          ]
        }
      ]
    },
    {
      "cell_type": "markdown",
      "source": [
        "# Save Model in .h5 "
      ],
      "metadata": {
        "id": "Hzezq_r3Dsg8"
      }
    },
    {
      "cell_type": "code",
      "source": [
        "model.save('model.h5')"
      ],
      "metadata": {
        "id": "JVYd2Ov3AuHp"
      },
      "execution_count": null,
      "outputs": []
    },
    {
      "cell_type": "markdown",
      "source": [
        "# Save model in tflite"
      ],
      "metadata": {
        "id": "Hj3CpVMmDv-T"
      }
    },
    {
      "cell_type": "code",
      "source": [
        "converter = tf.lite.TFLiteConverter.from_keras_model(model)\n",
        "tflite_model = converter.convert()\n",
        "with open('model.tflite', 'wb') as f:\n",
        "    f.write(tflite_model)"
      ],
      "metadata": {
        "colab": {
          "base_uri": "https://localhost:8080/"
        },
        "id": "HYfSAlcMACNW",
        "outputId": "77fba46b-1108-44c0-b76a-e867bb7f5f7b"
      },
      "execution_count": null,
      "outputs": [
        {
          "output_type": "stream",
          "name": "stderr",
          "text": [
            "WARNING:absl:Found untraced functions such as _update_step_xla while saving (showing 1 of 1). These functions will not be directly callable after loading.\n"
          ]
        }
      ]
    },
    {
      "cell_type": "code",
      "source": [
        "import numpy as np\n",
        "import matplotlib.pyplot as plt"
      ],
      "metadata": {
        "id": "rMfdLB1zxkwg"
      },
      "execution_count": 15,
      "outputs": []
    },
    {
      "cell_type": "code",
      "source": [
        "\n",
        "def plot_decision_boundary(model, X, y):\n",
        "  # Define the axis boundaries of the plot and create a meshgrid\n",
        "  x_min, x_max = X.iloc[:, 0].min() - 0.1, X.iloc[:, 0].max() + 0.1\n",
        "  y_min, y_max = X.iloc[:, 1].min() - 0.1, X.iloc[:, 1].max() + 0.1\n",
        "  xx, yy = np.meshgrid(np.linspace(x_min, x_max, 41),\n",
        "  np.linspace(y_min, y_max, 100))\n",
        "\n",
        "\n",
        "  # Plot decision boundary\n",
        "  # plt.contourf(xx, yy, y_pred, cmap=plt.cm.RdYlBu, alpha=0.7)\n",
        "  plt.scatter(X.iloc[:, 0], X.iloc[:, 1], c=y, s=40, cmap=plt.cm.RdYlBu)\n",
        "  plt.xlim(xx.min(), xx.max())\n",
        "  plt.ylim(yy.min(), yy.max())"
      ],
      "metadata": {
        "id": "2DfcyM1Gxk9C"
      },
      "execution_count": 43,
      "outputs": []
    },
    {
      "cell_type": "code",
      "source": [
        "plot_decision_boundary(model,X,y)"
      ],
      "metadata": {
        "colab": {
          "base_uri": "https://localhost:8080/",
          "height": 433
        },
        "id": "DptMX8tRx2sC",
        "outputId": "b595661f-ca3f-40ba-95c5-e09aa52eb857"
      },
      "execution_count": 44,
      "outputs": [
        {
          "output_type": "display_data",
          "data": {
            "text/plain": [
              "<Figure size 640x480 with 1 Axes>"
            ],
            "image/png": "[encoded data removed]"
          },
          "metadata": {}
        }
      ]
    }
  ]
}